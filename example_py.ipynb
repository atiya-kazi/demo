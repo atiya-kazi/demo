{
  "nbformat": 4,
  "nbformat_minor": 0,
  "metadata": {
    "colab": {
      "provenance": []
    },
    "kernelspec": {
      "name": "python3",
      "display_name": "Python 3"
    },
    "language_info": {
      "name": "python"
    }
  },
  "cells": [
    {
      "cell_type": "code",
      "execution_count": 1,
      "metadata": {
        "id": "VWvhGPXteo_m"
      },
      "outputs": [],
      "source": [
        "# Python Module addition\n",
        "\n",
        "def add(a, b):\n",
        "\n",
        "   result = a + b\n",
        "   return result"
      ]
    }
  ]
}